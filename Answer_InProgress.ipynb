{
 "cells": [
  {
   "cell_type": "code",
   "execution_count": 241,
   "metadata": {},
   "outputs": [],
   "source": [
    "import spacy\n",
    "import en_core_web_sm\n",
    "nlp = en_core_web_sm.load()\n",
    "from textblob import TextBlob"
   ]
  },
  {
   "cell_type": "code",
   "execution_count": 273,
   "metadata": {},
   "outputs": [],
   "source": [
    "def ans(text,Q):\n",
    "    # parse the Q with spacy parsing\n",
    "    Q = nlp(Q)\n",
    "    \"\"\"\n",
    "    for who questions, look for phrases with the NER tags: [PERSON || ORG] in the text that contains answer.\n",
    "    only look for phrases where proper noun is the subject within sentence\n",
    "    \"\"\"\n",
    "    if (str(Q[0]).lower() == \"who\"):\n",
    "        # preprocess the Question\n",
    "        cleanQ = list(Q)\n",
    "        ## get rid of question mark at the end, if any\n",
    "        cleanQ = [str(words) for words in cleanQ if str(words) != \"?\"]\n",
    "        ## start from 1 to get rid of \"who\"\n",
    "        ## fix the negation tokenization\n",
    "        for i,token in enumerate(cleanQ):\n",
    "            if token == \"'s\":\n",
    "                cleanQ.remove(token)\n",
    "                cleanQ[i - 1] = cleanQ[i - 1] + token\n",
    "        strQbody = \" \".join(cleanQ[i] for i in range(1, len(cleanQ)))\n",
    "        \n",
    "        text = nlp(text)\n",
    "        ans = \"\"\n",
    "        ent_dict = dict()\n",
    "        for X in text.ents:\n",
    "            ent_dict[X.text] = X.label_\n",
    "        for token in text:\n",
    "            for k,v in ent_dict.items():\n",
    "                if (token.dep_ == \"nsubj\"):\n",
    "                    if (v == \"PERSON\" or v == \"ORG\"):\n",
    "                        ans = token.text + \" \" + strQbody +\".\"\n",
    "    \n",
    "    \"\"\"\n",
    "    for when questions, look for phrases with the NER tags: [DATE || TIME || CARDINAL] from the text that contains answer.\n",
    "    \"\"\"\n",
    "    if (str(Q[0]).lower() == \"when\"):\n",
    "        text = nlp(text)\n",
    "        ans = \"\"\n",
    "        ent_dict = dict()\n",
    "        for X in text.ents:\n",
    "            ent_dict[X.text] = X.label_\n",
    "        for k,v in ent_dict.items():\n",
    "            if (v == \"DATE\" or v == \"CARDINAL\" or v == \"TIME\"):\n",
    "                ans = k\n",
    "    \"\"\"\n",
    "    for where questions, look for phrases with the NER tags: GPE, LOC, in the text that contains answer.\n",
    "    \"\"\"\n",
    "    if (str(Q[0]).lower() == \"where\"):\n",
    "        text = nlp(text)\n",
    "        ans = \"\"\n",
    "        ent_dict = dict()\n",
    "        for X in text.ents:\n",
    "            ent_dict[X.text] = X.label_\n",
    "        for k,v in ent_dict.items():\n",
    "            if (v == \"GPE\" or v == \"LOC\"):\n",
    "                ans = k\n",
    "                    \n",
    "                    \n",
    "    \"\"\"\n",
    "    for why questions, extract words as \"because, since, as \n",
    "    //ps: as can be very erroneous. need to find additional rule\" \n",
    "    reconstruct sentense with prepositional phase to make the answer grammatically correct\n",
    "    \"\"\"\n",
    "#     if (str(Q[0]).lower() == \"because\" or str(Q[0]).lower() == \"since\" or str(Q[0]).lower() == \"as\"):\n",
    "        \n",
    "\n",
    "    \n",
    "    \"\"\"\n",
    "    for yes/no questions, do the sentiment analysis using Textblob\n",
    "    \"\"\"  \n",
    "    if (str(Q[0]).lower() == \"does\" or str(Q[0]).lower() == \"do\" or str(Q[0]).lower() == \"did\"\n",
    "        or str(Q[0]).lower() == \"is\" or str(Q[0]).lower() == \"are\" \n",
    "        or str(Q[0]).lower() == \"have\" or str(Q[0]).lower() == \"has\" or str(Q[0]).lower() == \"had\"):\n",
    "            testimonial = TextBlob(text)\n",
    "            print(testimonial.sentiment.polarity)\n",
    "            if testimonial.sentiment.polarity >= 0:\n",
    "                ans = \"Yes\"\n",
    "            else:\n",
    "                ans = \"No\"\n",
    "    \n",
    "    return ans"
   ]
  },
  {
   "cell_type": "code",
   "execution_count": 274,
   "metadata": {},
   "outputs": [
    {
     "data": {
      "text/plain": [
       "'the 29th year'"
      ]
     },
     "execution_count": 274,
     "metadata": {},
     "output_type": "execute_result"
    }
   ],
   "source": [
    "# Testing\n",
    "## WHO\n",
    "text = \"Queen Hatshepsut concentrated on expanding Egypt's external trade by sending a commercial expedition to the land of Punt.\"\n",
    "Q = \"who concentrated on expanding Egypt's external trade?\"\n",
    "\n",
    "## WHEN\n",
    "\n",
    "text = ('The Old Kingdom is the period in'\n",
    "        'the third millennium (c. 2686-2181 BC)'\n",
    "        'also known as the \\'Age of the Pyramids\\' or \\'Age of the Pyramid Builders\\''\n",
    "        'as it includes the great 4th Dynasty when King Sneferu perfected the art of pyramid building'\n",
    "        'and the pyramids of Giza were constructed under the kings Khufu, Khafre, and Menkaure.')\n",
    "Q = \"when is the Old Kingdom?\"\n",
    "\n",
    "text = \"During the reign of Thutmose III (c. 1479–1425 BC), Pharaoh, originally referring to the king's palace, became a form of address for the person who was king\"\n",
    "Q = \"when is the reign of Thutmose?\"\n",
    "\n",
    "text = (\"The severity of the difficulties is indicated by the fact that the first known labor strike\" \n",
    "        \"in recorded history occurred during the 29th year of Ramesses III's reign, when the food rations for Egypt's favored\"\n",
    "        \"and elite royal tomb-builders and artisans in the village of Deir el Medina could not be provisioned.\")\n",
    "Q = \"when is the Ramesses's reign?\"\n",
    "\n",
    "ans(text,Q)"
   ]
  },
  {
   "cell_type": "code",
   "execution_count": 268,
   "metadata": {},
   "outputs": [],
   "source": [
    "text = \"During the reign of Thutmose III (c. 1479–1425 BC), Pharaoh, originally referring to the king's palace, became a form of address for the person who was king\"\n",
    "Q = \"when is the reign of Thutmose?\"\n",
    "Q = nlp(Q)"
   ]
  },
  {
   "cell_type": "code",
   "execution_count": 269,
   "metadata": {},
   "outputs": [],
   "source": [
    "if (str(Q[0]).lower() == \"when\"):\n",
    "    text = nlp(text)\n",
    "    ans = \"\"\n",
    "    # dict to store NER tags of the text\n",
    "    ent_dict = dict()\n",
    "    for X in text.ents:\n",
    "        ent_dict[X.text] = X.label_\n",
    "    for k,v in ent_dict.items():\n",
    "        if (v == \"DATE\" or v == \"CARDINAL\" or v == \"TIME\"):\n",
    "            ans = k"
   ]
  },
  {
   "cell_type": "code",
   "execution_count": 270,
   "metadata": {},
   "outputs": [
    {
     "data": {
      "text/plain": [
       "'1479–1425'"
      ]
     },
     "execution_count": 270,
     "metadata": {},
     "output_type": "execute_result"
    }
   ],
   "source": [
    "ans"
   ]
  },
  {
   "cell_type": "code",
   "execution_count": null,
   "metadata": {},
   "outputs": [],
   "source": []
  },
  {
   "cell_type": "code",
   "execution_count": 6,
   "metadata": {},
   "outputs": [
    {
     "data": {
      "text/plain": [
       "'2686-2181'"
      ]
     },
     "execution_count": 6,
     "metadata": {},
     "output_type": "execute_result"
    }
   ],
   "source": [
    "# testing\n",
    "# text = nlp(\"Under King Djoser, the first king of the Third Dynasty of the Old Kingdom the royal capital of Egypt was moved to Memphis, where Djoser established his court.\")\n",
    "# Q = nlp(\"who is the first king of the Third Dynasty of the Old Kingdom?\")\n",
    "# Q = nlp(\"where does the Old Kingdom the royal capital of Egypt moved to?\")\n",
    "\n",
    "text = \"The Old Kingdom is the period in the third millennium (c. 2686-2181 BC) also known as the \\'Age of the Pyramids\\' or \\'Age of the Pyramid Builders\\' as it includes the great 4th Dynasty when King Sneferu perfected the art of pyramid building and the pyramids of Giza were constructed under the kings Khufu, Khafre, and Menkaure. \"\n",
    "# Q = nlp(\"who perfected the art of pyramid building?\")\n",
    "Q = nlp(\"when is the Old Kingdom?\")\n",
    "# Q = nlp(\"Is the Old Kingdom also known as the \\'Age of the Pyramids\\' or \\'Age of the Pyramid Builders\\'?\")\n",
    "\n",
    "\n",
    "\n",
    "\n",
    "ans(text,Q)"
   ]
  }
 ],
 "metadata": {
  "kernelspec": {
   "display_name": "Python 3",
   "language": "python",
   "name": "python3"
  },
  "language_info": {
   "codemirror_mode": {
    "name": "ipython",
    "version": 3
   },
   "file_extension": ".py",
   "mimetype": "text/x-python",
   "name": "python",
   "nbconvert_exporter": "python",
   "pygments_lexer": "ipython3",
   "version": "3.7.1"
  }
 },
 "nbformat": 4,
 "nbformat_minor": 2
}
